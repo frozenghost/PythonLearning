{
 "metadata": {
  "language_info": {
   "codemirror_mode": {
    "name": "ipython",
    "version": 3
   },
   "file_extension": ".py",
   "mimetype": "text/x-python",
   "name": "python",
   "nbconvert_exporter": "python",
   "pygments_lexer": "ipython3",
   "version": "3.9.0"
  },
  "orig_nbformat": 2,
  "kernelspec": {
   "name": "python390jvsc74a57bd0ac59ebe37160ed0dfa835113d9b8498d9f09ceb179beaac4002f036b9467c963",
   "display_name": "Python 3.9.0 64-bit"
  },
  "metadata": {
   "interpreter": {
    "hash": "ac59ebe37160ed0dfa835113d9b8498d9f09ceb179beaac4002f036b9467c963"
   }
  }
 },
 "nbformat": 4,
 "nbformat_minor": 2,
 "cells": [
  {
   "source": [
    "# Python数据结构"
   ],
   "cell_type": "markdown",
   "metadata": {}
  },
  {
   "source": [
    "## 链表实现"
   ],
   "cell_type": "markdown",
   "metadata": {}
  },
  {
   "cell_type": "code",
   "execution_count": 2,
   "metadata": {},
   "outputs": [
    {
     "output_type": "stream",
     "name": "stdout",
     "text": [
      "1\n"
     ]
    }
   ],
   "source": [
    "class ListNode:\n",
    "    def __init__(self, data):\n",
    "        self.data = data\n",
    "        self.next = None\n",
    "\n",
    "node = ListNode('1')\n",
    "print(node.data)"
   ]
  },
  {
   "source": [
    "class LinkedList: # 一般是无序列表\n",
    "    def __init__(self): # 链表包含首尾节点，哨兵节点可选\n",
    "        self.head = None\n",
    "        self.tail = None\n",
    "        self.count = 0\n",
    "    \n",
    "    def is_empty(self):\n",
    "        return self.head == None\n",
    "\n",
    "    def add(self, node: ListNode): # 插入尾部节点\n",
    "        if not isinstance(node, ListNode):\n",
    "            raise TypeError('node is not a listnode')\n",
    "        if(self.is_empty()):\n",
    "            self.head = node\n",
    "            self.tail = node\n",
    "        else:\n",
    "            self.tail.next = node\n",
    "            self.tail = node\n",
    "        self.count += 1\n",
    "    \n",
    "    def insert(self, index: int, node: ListNode): # 在特定位置插入节点\n",
    "        if not isinstance(node, ListNode):\n",
    "            raise TypeError('node is not a listnode')\n",
    "        if(index < 0 or index > self.count):\n",
    "            raise Exception('invalid index')\n",
    "        elif(index == 0):\n",
    "            temp = self.head\n",
    "            self.head = node\n",
    "            node.next = temp\n",
    "        else:\n",
    "            temp = self.head\n",
    "            for i in range(0, index - 1):\n",
    "                temp = temp.next\n",
    "            node.next = temp.next\n",
    "            temp.next = node\n",
    "        self.count += 1\n",
    "                \n",
    "    \n",
    "    def loop(self): # 节点遍历并输出\n",
    "        if(self.is_empty()):\n",
    "            print('Empty')\n",
    "        else:\n",
    "            temp = self.head\n",
    "            result = ''\n",
    "            while(temp != None):\n",
    "                result += '--> %s ' % temp.data\n",
    "                temp = temp.next\n",
    "            print(result)\n",
    "\n",
    "# 测试代码\n",
    "l = LinkedList()\n",
    "print(l.is_empty())\n",
    "node1 = ListNode('F')\n",
    "l.add(node1)\n",
    "assert l.head.data == l.tail.data\n",
    "assert l.count == 1\n",
    "node2 = ListNode('H')\n",
    "node3 = ListNode('X')\n",
    "node4 = ListNode('X')\n",
    "l.add(node2)\n",
    "l.insert(0, node3)\n",
    "l.loop()\n",
    "l.insert(2, node4)\n",
    "l.loop()\n",
    "\n",
    "x = LinkedList()\n",
    "x.insert(0, ListNode('H'))\n",
    "x.loop()"
   ],
   "cell_type": "code",
   "metadata": {},
   "execution_count": 2,
   "outputs": [
    {
     "output_type": "stream",
     "name": "stdout",
     "text": [
      "True\n--> X --> F --> H \n--> X --> F --> X --> H \n--> H \n"
     ]
    }
   ]
  },
  {
   "source": [
    "## 双向链表"
   ],
   "cell_type": "markdown",
   "metadata": {}
  },
  {
   "cell_type": "code",
   "execution_count": 3,
   "metadata": {},
   "outputs": [],
   "source": [
    "class DoubleLinkNode:\n",
    "    def __init__(self, data):\n",
    "        self.data = data\n",
    "        self.prev = None\n",
    "        self.next = None\n",
    "\n",
    "class DoubleLinkedList:\n",
    "    pass"
   ]
  },
  {
   "source": [
    "## 数组实现"
   ],
   "cell_type": "markdown",
   "metadata": {}
  },
  {
   "cell_type": "code",
   "execution_count": 1,
   "metadata": {},
   "outputs": [
    {
     "output_type": "stream",
     "name": "stdout",
     "text": [
      "[1, 2, 3]\n"
     ]
    }
   ],
   "source": [
    "# 在python中list可以当做数组使用\n",
    "array = [1,2]\n",
    "array.append(3)\n",
    "print(array)"
   ]
  },
  {
   "source": [
    "## 栈"
   ],
   "cell_type": "markdown",
   "metadata": {}
  },
  {
   "cell_type": "code",
   "execution_count": 5,
   "metadata": {},
   "outputs": [
    {
     "output_type": "stream",
     "name": "stdout",
     "text": [
      "['7']\n"
     ]
    },
    {
     "output_type": "execute_result",
     "data": {
      "text/plain": [
       "'7'"
      ]
     },
     "metadata": {},
     "execution_count": 5
    }
   ],
   "source": [
    "class Stack:\n",
    "    def __init__(self):\n",
    "        self.items = []\n",
    "    \n",
    "    def isEmpty(self):\n",
    "        return self.items == []\n",
    "\n",
    "    def push(self, item): # 入栈\n",
    "        self.items.append(item)\n",
    "\n",
    "    def pop(self):\n",
    "        return self.items.pop()\n",
    "\n",
    "    def size(self): # 出栈\n",
    "        return len(self.items)\n",
    "\n",
    "    def peek(self):\n",
    "        return self.items[self.size() - 1]\n",
    "\n",
    "stack = Stack()\n",
    "stack.push('7')\n",
    "print(stack.items)\n",
    "stack.peek()"
   ]
  },
  {
   "source": [
    "## 队列"
   ],
   "cell_type": "markdown",
   "metadata": {}
  },
  {
   "cell_type": "code",
   "execution_count": null,
   "metadata": {},
   "outputs": [],
   "source": [
    "class Deque: # 双端队列\n",
    "    def __init__(self):\n",
    "        self.items = []\n",
    "\n",
    "    def isEmpty(self):\n",
    "        return self.items == []\n",
    "\n",
    "    def addFront(self, item):\n",
    "        self.items.append(item)\n",
    "\n",
    "    def addRear(self, item):\n",
    "        self.items.insert(0, item)\n",
    "\n",
    "    def removeFront(self):\n",
    "        self.items.pop()\n",
    "\n",
    "    def removeRear(self):\n",
    "        self.items.pop(0)\n",
    "\n",
    "    def size(self):\n",
    "        return len(self.items)"
   ]
  },
  {
   "source": [
    "## 二分查找"
   ],
   "cell_type": "markdown",
   "metadata": {}
  },
  {
   "cell_type": "code",
   "execution_count": 7,
   "metadata": {},
   "outputs": [
    {
     "output_type": "stream",
     "name": "stdout",
     "text": [
      "True\n"
     ]
    }
   ],
   "source": [
    "# 二分查找的前提是有序数组（顺序表），时间复杂度为 O(logn)\n",
    "def binarySearch(alist, item): \n",
    "    if len(alist) == 0: \n",
    "        return False \n",
    "    else: \n",
    "        midpoint = len(alist) // 2 \n",
    "    if alist[midpoint] == item: \n",
    "        return True \n",
    "    else: \n",
    "        if item < alist[midpoint]: \n",
    "            return binarySearch(alist[:midpoint], item) \n",
    "        else: \n",
    "            return binarySearch(alist[midpoint+1:], item) \n",
    "\n",
    "print(binarySearch([1,2,3,4,5,6,7], 3))"
   ]
  },
  {
   "source": [
    "## 冒泡排序"
   ],
   "cell_type": "markdown",
   "metadata": {}
  },
  {
   "cell_type": "code",
   "execution_count": null,
   "metadata": {},
   "outputs": [],
   "source": [
    "# 冒泡排序多次遍历列表。它比较相邻的元素，将不合顺序的交换。每一轮遍历都将下一个最大值放到正确的位置上\n",
    "def bubbleSort(alist): \n",
    "    for passnum in range(len(alist)-1, 0, -1): \n",
    "        for i in range(passnum): \n",
    "            if alist[i] > alist[i+1]: \n",
    "                temp = alist[i] \n",
    "                alist[i] = alist[i+1] \n",
    "                alist[i+1] = temp "
   ]
  },
  {
   "source": [
    "## 选择排序"
   ],
   "cell_type": "markdown",
   "metadata": {}
  },
  {
   "cell_type": "code",
   "execution_count": null,
   "metadata": {},
   "outputs": [],
   "source": [
    "# 选择排序在冒泡排序的基础上做了改进，每次遍历列表时只做一次交换。选择排序在每次遍历时寻找最大值，并在遍历完之后将它放到正确位置上\n",
    "def selectionSort(alist): \n",
    "    for fillslot in range(len(alist)-1, 0, -1): \n",
    "        positionOfMax = 0 \n",
    "        for location in range(1, fillslot+1): \n",
    "            if alist[location] > alist[positionOfMax]: \n",
    "                positionOfMax = location \n",
    "\n",
    "temp = alist[fillslot] \n",
    "alist[fillslot] = alist[positionOfMax] \n",
    "alist[positionOfMax] = temp "
   ]
  },
  {
   "source": [
    "## 插入排序"
   ],
   "cell_type": "markdown",
   "metadata": {}
  },
  {
   "cell_type": "code",
   "execution_count": null,
   "metadata": {},
   "outputs": [],
   "source": [
    "# 在最坏情况下，插入排序算法的比较次数是前 n–1 个整数之和，对应的时间复杂度是 O(N^2)\n",
    "# 在最好情况下（列表已经是有序的），每一轮只需比较一次\n",
    "# 移动操作和交换操作有一个重要的不同点。总体来说，交换操作的处理时间大约是移动操作的 3 倍，因为后者只需进行一次赋值。在基准测试中，插入排序算法的性能很不错\n",
    "def insertionSort(alist): \n",
    "    for index in range(1, len(alist)): \n",
    "        currentvalue = alist[index] \n",
    "        position = index \n",
    "\n",
    "        while position > 0 and alist[position-1] > currentvalue: \n",
    "            alist[position] = alist[position-1] \n",
    "            position = position-1 \n",
    "\n",
    "        alist[position] = currentvalue"
   ]
  },
  {
   "source": [
    "## 希尔排序"
   ],
   "cell_type": "markdown",
   "metadata": {}
  },
  {
   "cell_type": "code",
   "execution_count": null,
   "metadata": {},
   "outputs": [],
   "source": [
    "# 希尔排序的时间复杂度大概介于 O(N) 和 O(N^2) 之间\n",
    "# 希尔排序也称“递减增量排序”，它对插入排序做了改进，将列表分成数个子列表，并对每\n",
    "# 一个子列表应用插入排序。如何切分列表是希尔排序的关键——并不是连续切分，而是使用增量\n",
    "# i（有时称作步长）选取所有间隔为 i 的元素组成子列表\n",
    "def shellSort(alist): \n",
    "    sublistcount = len(alist) // 2 \n",
    "    while sublistcount > 0:\n",
    "\n",
    "    for startposition in range(sublistcount): \n",
    "        gapInsertionSort(alist, startposition, sublistcount) \n",
    "\n",
    "        print(\"After increments of size\", sublistcount, \"The list is\", alist) \n",
    "\n",
    "        sublistcount = sublistcount // 2 \n",
    "\n",
    "def gapInsertionSort(alist, start, gap): \n",
    "    for i in range(start+gap, len(alist), gap): \n",
    "\n",
    "        currentvalue = alist[i] \n",
    "        position = i \n",
    "\n",
    "        while position >= gap and \\ \n",
    "                alist[position-gap] > currentvalue: \n",
    "            alist[position] = alist[position-gap] \n",
    "            position = position-gap \n",
    "\n",
    "        alist[position] = currentvalue "
   ]
  },
  {
   "source": [
    "## 归并排序"
   ],
   "cell_type": "markdown",
   "metadata": {}
  },
  {
   "cell_type": "code",
   "execution_count": 6,
   "metadata": {},
   "outputs": [],
   "source": [
    "# 每次将一个列表一分为二。如果列表为空或只有一个元素，那么从定义上来说它就\n",
    "# 是有序的（基本情况）。如果列表不止一个元素，就将列表一分为二，并对两部分都递归调用归并\n",
    "# 排序。当两部分都有序后，就进行归并这一基本操作。归并是指将两个较小的有序列表归并为一个有序列表的过程\n",
    "# 归并排序算法的时间复杂度是O(nlogn)\n",
    "def mergeSort(alist): \n",
    "    print(\"Splitting \", alist) \n",
    "    if len(alist) > 1: \n",
    "        mid = len(alist) // 2 \n",
    "        lefthalf = alist[:mid] \n",
    "        righthalf = alist[mid:] \n",
    "\n",
    "        mergeSort(lefthalf) \n",
    "        mergeSort(righthalf) \n",
    "\n",
    "        i = 0 \n",
    "        j = 0 \n",
    "        k = 0 \n",
    "        while i < len(lefthalf) and j < len(righthalf): \n",
    "            if lefthalf[i] < righthalf[j]: \n",
    "                alist[k] = lefthalf[i] \n",
    "                i = i + 1 \n",
    "            else: \n",
    "                alist[k] = righthalf[j] \n",
    "                j = j + 1 \n",
    "            k = k + 1 \n",
    "\n",
    "        while i < len(lefthalf): \n",
    "            alist[k] = lefthalf[i] \n",
    "            i = i + 1 \n",
    "            k = k + 1 \n",
    "\n",
    "        while j < len(righthalf): \n",
    "            alist[k] = righthalf[j] \n",
    "            j = j + 1 \n",
    "            k = k + 1 \n",
    "    print(\"Merging \", alist)"
   ]
  },
  {
   "source": [
    "## 快速排序"
   ],
   "cell_type": "markdown",
   "metadata": {}
  },
  {
   "cell_type": "code",
   "execution_count": null,
   "metadata": {},
   "outputs": [],
   "source": [
    "# 快速排序的时间复杂度是 O(nlogn) ，但当分割点不靠近列表中部时会降到 O(N^2) 。它不需要使用额外的存储空间\n",
    "def quickSort(alist): \n",
    "    quickSortHelper(alist, 0, len(alist)-1) \n",
    "\n",
    "def quickSortHelper(alist, first, last): \n",
    "    if first < last: \n",
    "\n",
    "        splitpoint = partition(alist, first, last) \n",
    "\n",
    "        quickSortHelper(alist, first, splitpoint-1) \n",
    "        quickSortHelper(alist, splitpoint+1, last) \n",
    "\n",
    "\n",
    "def partition(alist, first, last): \n",
    "    pivotvalue = alist[first] \n",
    "\n",
    "    leftmark = first + 1 \n",
    "    rightmark = last\n",
    "\n",
    "    done = False \n",
    "    while not done: \n",
    "\n",
    "        while leftmark <= rightmark and \\ \n",
    "                    alist[leftmark] <= pivotvalue: \n",
    "            leftmark = leftmark + 1 \n",
    "\n",
    "        while alist[rightmark] >= pivotvalue and \\ \n",
    "                    rightmark >= leftmark: \n",
    "            rightmark = rightmark – 1 \n",
    "\n",
    "        if rightmark < leftmark: \n",
    "            done = True \n",
    "        else: \n",
    "            temp = alist[leftmark] \n",
    "            alist[leftmark] = alist[rightmark] \n",
    "            alist[rightmark] = temp \n",
    "\n",
    "    temp = alist[first] \n",
    "    alist[first] = alist[rightmark] \n",
    "    alist[rightmark] = temp \n",
    "\n",
    "\n",
    "    return rightmark "
   ]
  }
 ]
}