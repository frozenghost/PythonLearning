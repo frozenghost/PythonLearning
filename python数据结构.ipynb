{
 "metadata": {
  "language_info": {
   "codemirror_mode": {
    "name": "ipython",
    "version": 3
   },
   "file_extension": ".py",
   "mimetype": "text/x-python",
   "name": "python",
   "nbconvert_exporter": "python",
   "pygments_lexer": "ipython3",
   "version": "3.9.0-final"
  },
  "orig_nbformat": 2,
  "kernelspec": {
   "name": "python3",
   "display_name": "Python 3.9.0 64-bit ('venv')",
   "metadata": {
    "interpreter": {
     "hash": "86464ed3d0bb125b9e70bfee97ff0081a21a0b55fadb9c13bf4b6d120ea44c2f"
    }
   }
  }
 },
 "nbformat": 4,
 "nbformat_minor": 2,
 "cells": [
  {
   "source": [
    "# Python数据结构"
   ],
   "cell_type": "markdown",
   "metadata": {}
  },
  {
   "source": [
    "## 链表实现"
   ],
   "cell_type": "markdown",
   "metadata": {}
  },
  {
   "cell_type": "code",
   "execution_count": 45,
   "metadata": {},
   "outputs": [
    {
     "output_type": "stream",
     "name": "stdout",
     "text": [
      "1\n"
     ]
    }
   ],
   "source": [
    "class ListNode:\n",
    "    def __init__(self, data):\n",
    "        self.data = data\n",
    "        self.next = None\n",
    "\n",
    "node = ListNode('1')\n",
    "print(node.data)"
   ]
  },
  {
   "source": [
    "class LinkedList:\n",
    "    def __init__(self): # 链表包含首尾节点，哨兵节点可选\n",
    "        self.head = None\n",
    "        self.tail = None\n",
    "        self.count = 0\n",
    "    \n",
    "    def is_empty(self):\n",
    "        return self.head == None\n",
    "\n",
    "    def add(self, node): # 插入尾部节点\n",
    "        if(self.is_empty()):\n",
    "            self.head = node\n",
    "            self.tail = node\n",
    "        else:\n",
    "            self.tail.next = node\n",
    "            self.tail = node\n",
    "        self.count += 1\n",
    "    \n",
    "    def insert(self, index, node):\n",
    "        if(index < 0 or index > self.count):\n",
    "            raise Exception('invalid index')\n",
    "        elif(index == 0):\n",
    "            temp = self.head\n",
    "            self.head = node\n",
    "            node.next = temp\n",
    "        else:\n",
    "            temp = self.head\n",
    "            for i in range(0, index - 1):\n",
    "                temp = temp.next\n",
    "            node.next = temp.next\n",
    "            temp.next = node\n",
    "        self.count += 1\n",
    "                \n",
    "    \n",
    "    def loop(self): # 节点遍历并输出\n",
    "        if(self.is_empty()):\n",
    "            print('Empty')\n",
    "        else:\n",
    "            temp = self.head\n",
    "            result = ''\n",
    "            while(temp != None):\n",
    "                result += '--> %s ' % temp.data\n",
    "                temp = temp.next\n",
    "            print(result)\n",
    "\n",
    "l = LinkedList()\n",
    "print(l.is_empty())\n",
    "node1 = ListNode('F')\n",
    "l.add(node1)\n",
    "assert l.head.data == l.tail.data\n",
    "assert l.count == 1\n",
    "node2 = ListNode('H')\n",
    "node3 = ListNode('X')\n",
    "node4 = ListNode('X')\n",
    "l.add(node2)\n",
    "l.insert(0, node3)\n",
    "l.insert(2, node4)\n",
    "l.loop()"
   ],
   "cell_type": "code",
   "metadata": {},
   "execution_count": 46,
   "outputs": [
    {
     "output_type": "stream",
     "name": "stdout",
     "text": [
      "True\n--> X --> F --> X --> H \n"
     ]
    }
   ]
  },
  {
   "source": [
    "## 数组实现"
   ],
   "cell_type": "markdown",
   "metadata": {}
  }
 ]
}