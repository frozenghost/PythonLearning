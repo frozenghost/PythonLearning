{
 "cells": [
  {
   "source": [
    "# Python基础"
   ],
   "cell_type": "markdown",
   "metadata": {}
  },
  {
   "cell_type": "markdown",
   "id": "measured-hypothesis",
   "metadata": {},
   "source": [
    "## List常用操作"
   ]
  },
  {
   "cell_type": "code",
   "execution_count": 2,
   "id": "ordered-xerox",
   "metadata": {},
   "outputs": [
    {
     "name": "stdout",
     "output_type": "stream",
     "text": [
      "[1, 2]\n",
      "[1, 2, 3]\n",
      "[3, 2, 1]\n"
     ]
    }
   ],
   "source": [
    "myList = [1, 2]\n",
    "print(myList)\n",
    "myList.append(3) #结尾处插入元素\n",
    "print(myList)\n",
    "myList.reverse() #反转\n",
    "print(myList)\n"
   ]
  },
  {
   "cell_type": "markdown",
   "id": "experienced-arrow",
   "metadata": {},
   "source": [
    "## 类"
   ]
  },
  {
   "cell_type": "code",
   "execution_count": 2,
   "id": "confirmed-charity",
   "metadata": {},
   "outputs": [
    {
     "output_type": "stream",
     "name": "stdout",
     "text": [
      "F\nworking\nNone\n"
     ]
    }
   ],
   "source": [
    "class Student:\n",
    "    def __init__(self, studentId, name): #类的属性直接在方法中定义，参数可不传\n",
    "        self.studentId = studentId\n",
    "        self.name = name\n",
    "\n",
    "    def doWork(self): # 类的方法一般都要带一个self参数，保证能够被调用\n",
    "        print('working')\n",
    "\n",
    "s = Student(1, 'F')\n",
    "print(s.name)\n",
    "print(s.doWork())"
   ]
  },
  {
   "cell_type": "code",
   "execution_count": null,
   "id": "dedicated-brain",
   "metadata": {},
   "outputs": [],
   "source": []
  }
 ],
 "metadata": {
  "kernelspec": {
   "display_name": "Python 3",
   "language": "python",
   "name": "python3"
  },
  "language_info": {
   "codemirror_mode": {
    "name": "ipython",
    "version": 3
   },
   "file_extension": ".py",
   "mimetype": "text/x-python",
   "name": "python",
   "nbconvert_exporter": "python",
   "pygments_lexer": "ipython3",
   "version": "3.9.0-final"
  }
 },
 "nbformat": 4,
 "nbformat_minor": 5
}