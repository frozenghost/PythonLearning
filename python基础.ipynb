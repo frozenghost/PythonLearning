{
 "cells": [
  {
   "source": [
    "# Python基础"
   ],
   "cell_type": "markdown",
   "metadata": {}
  },
  {
   "cell_type": "markdown",
   "id": "measured-hypothesis",
   "metadata": {},
   "source": [
    "## List常用操作"
   ]
  },
  {
   "cell_type": "code",
   "execution_count": 1,
   "id": "ordered-xerox",
   "metadata": {},
   "outputs": [
    {
     "output_type": "stream",
     "name": "stdout",
     "text": [
      "[1, 2]\n[1, 2, 3]\n[3, 2, 1]\n[3, 2, 1, 3, 2, 1]\n"
     ]
    }
   ],
   "source": [
    "myList = [1, 2]\n",
    "print(myList)\n",
    "myList.append(3) #结尾处插入元素\n",
    "print(myList)\n",
    "myList.reverse() #反转\n",
    "print(myList)\n",
    "\n",
    "myList += myList # + 可以用于list, 效果同append\n",
    "print(myList)"
   ]
  },
  {
   "cell_type": "markdown",
   "id": "experienced-arrow",
   "metadata": {},
   "source": [
    "## 类"
   ]
  },
  {
   "cell_type": "code",
   "execution_count": 2,
   "id": "confirmed-charity",
   "metadata": {},
   "outputs": [
    {
     "output_type": "stream",
     "name": "stdout",
     "text": [
      "F\nworking\nNone\n"
     ]
    }
   ],
   "source": [
    "class Student:\n",
    "    def __init__(self, studentId, name): #类的属性直接在方法中定义，参数可不传\n",
    "        self.studentId = studentId\n",
    "        self.name = name\n",
    "\n",
    "    def doWork(self): # 类的方法一般都要带一个self参数，保证能够被调用\n",
    "        print('working')\n",
    "\n",
    "s = Student(1, 'F')\n",
    "print(s.name)\n",
    "print(s.doWork())"
   ]
  },
  {
   "source": [
    "## 值比较和引用类型比较"
   ],
   "cell_type": "markdown",
   "metadata": {}
  },
  {
   "cell_type": "code",
   "execution_count": 4,
   "metadata": {},
   "outputs": [
    {
     "output_type": "stream",
     "name": "stdout",
     "text": [
      "True\nTrue\nTrue\nFalse\n"
     ]
    }
   ],
   "source": [
    "a = 2 # 数值类型\n",
    "b = 2\n",
    "print(a == b)\n",
    "print(a is b)\n",
    "\n",
    "a = [1, 2] # 引用类型\n",
    "b = [1, 2]\n",
    "print(a == b)\n",
    "print(a is b)\n",
    "\n",
    "# 整形、字符串、元组数据更改会变更地址"
   ]
  },
  {
   "source": [
    "## 方法计时"
   ],
   "cell_type": "markdown",
   "metadata": {}
  },
  {
   "cell_type": "code",
   "execution_count": 16,
   "metadata": {},
   "outputs": [
    {
     "output_type": "stream",
     "name": "stdout",
     "text": [
      "concat  1.4240883000002214 milliseconds\nappend  0.08132200000000012 milliseconds\ncomprehension  0.04566969999996218 milliseconds\nlist range  0.01897689999987051 milliseconds\n"
     ]
    }
   ],
   "source": [
    "import timeit \n",
    "\n",
    "def test1(): \n",
    "    l = [] \n",
    "    for i in range(1000): \n",
    "        l = l + [i] \n",
    "\n",
    "def test2(): \n",
    "    l = [] \n",
    "    for i in range(1000): \n",
    "        l.append(i) \n",
    "\n",
    "def test3(): \n",
    "    l = [i for i in range(1000)] \n",
    "\n",
    "def test4(): \n",
    "    l = list(range(1000)) \n",
    "\n",
    "t1 = timeit.Timer(\"test1()\", \"from __main__ import test1\") \n",
    "print(\"concat \", t1.timeit(number=1000), \"milliseconds\") \n",
    "t2 = timeit.Timer(\"test2()\", \"from __main__ import test2\") \n",
    "print(\"append \", t2.timeit(number=1000), \"milliseconds\") \n",
    "t3 = timeit.Timer(\"test3()\", \"from __main__ import test3\") \n",
    "print(\"comprehension \", t3.timeit(number=1000), \"milliseconds\") \n",
    "t4 = timeit.Timer(\"test4()\", \"from __main__ import test4\") \n",
    "print(\"list range \", t4.timeit(number=1000), \"milliseconds\") "
   ]
  },
  {
   "source": [
    "## 搜索"
   ],
   "cell_type": "markdown",
   "metadata": {}
  },
  {
   "cell_type": "code",
   "execution_count": 1,
   "metadata": {},
   "outputs": [
    {
     "output_type": "stream",
     "name": "stdout",
     "text": [
      "False\n"
     ]
    }
   ],
   "source": [
    "print(15 in [13,14,16])"
   ]
  },
  {
   "source": [
    "## Tips"
   ],
   "cell_type": "markdown",
   "metadata": {}
  },
  {
   "cell_type": "code",
   "execution_count": 2,
   "metadata": {},
   "outputs": [
    {
     "output_type": "stream",
     "name": "stdout",
     "text": [
      "3\n3.3333333333333335\n8\n2 3\n3 2\nFalse\n"
     ]
    }
   ],
   "source": [
    "a = 10 // 3 # 整数除法\n",
    "b = 10 / 3  # 浮点数除法\n",
    "c = 2 ** 3  # 幂指数\n",
    "print(a)\n",
    "print(b)\n",
    "print(c)\n",
    "\n",
    "a, b = 2, 3 # 同时赋值\n",
    "print(a, b)\n",
    "a, b = b, a # 交换值\n",
    "print(a, b)\n",
    "\n",
    "d = a > 10 and \\  \n",
    "        b > 20  # 在一行语句需要拆成多行书写时，行尾处的\\符号表示后续行延续本行语句\n",
    "print(d)"
   ]
  },
  {
   "cell_type": "code",
   "execution_count": null,
   "metadata": {},
   "outputs": [],
   "source": []
  }
 ],
 "metadata": {
  "kernelspec": {
   "name": "pythonjvsc74a57bd086464ed3d0bb125b9e70bfee97ff0081a21a0b55fadb9c13bf4b6d120ea44c2f",
   "display_name": "Python 3.9.0  ('venv': venv)"
  },
  "language_info": {
   "codemirror_mode": {
    "name": "ipython",
    "version": 3
   },
   "file_extension": ".py",
   "mimetype": "text/x-python",
   "name": "python",
   "nbconvert_exporter": "python",
   "pygments_lexer": "ipython3",
   "version": "3.9.0"
  },
  "metadata": {
   "interpreter": {
    "hash": "86464ed3d0bb125b9e70bfee97ff0081a21a0b55fadb9c13bf4b6d120ea44c2f"
   }
  }
 },
 "nbformat": 4,
 "nbformat_minor": 5
}