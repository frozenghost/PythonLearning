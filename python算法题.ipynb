{
 "metadata": {
  "language_info": {
   "codemirror_mode": {
    "name": "ipython",
    "version": 3
   },
   "file_extension": ".py",
   "mimetype": "text/x-python",
   "name": "python",
   "nbconvert_exporter": "python",
   "pygments_lexer": "ipython3",
   "version": "3.9.0"
  },
  "orig_nbformat": 2,
  "kernelspec": {
   "name": "python390jvsc74a57bd086464ed3d0bb125b9e70bfee97ff0081a21a0b55fadb9c13bf4b6d120ea44c2f",
   "display_name": "Python 3.9.0 64-bit ('venv': venv)"
  }
 },
 "nbformat": 4,
 "nbformat_minor": 2,
 "cells": [
  {
   "source": [
    "# Python算法题"
   ],
   "cell_type": "markdown",
   "metadata": {}
  },
  {
   "source": [
    "[两数之和](https://leetcode-cn.com/problems/two-sum/)"
   ],
   "cell_type": "markdown",
   "metadata": {}
  },
  {
   "cell_type": "code",
   "execution_count": 1,
   "metadata": {},
   "outputs": [
    {
     "output_type": "stream",
     "name": "stdout",
     "text": [
      "[1, 2]\n"
     ]
    }
   ],
   "source": [
    "# 方案1 两层循环\n",
    "# 时间复杂度：O(N^2)，其中 N 是数组中的元素数量。最坏情况下数组中任意两个数都要被匹配一次\n",
    "# 空间复杂度 O(1)\n",
    "from typing import List\n",
    "\n",
    "class Solution1_1:\n",
    "    def twoSum(self, nums: List[int], target: int) -> List[int]:\n",
    "        for i in range(len(nums)):\n",
    "            for j in range(len(nums)):\n",
    "                if(i >= j):\n",
    "                    continue\n",
    "                if(nums[i] + nums[j] == target):\n",
    "                    return [i, j]\n",
    "        return []\n",
    "\n",
    "print(Solution1_1().twoSum([2,-7,16,15], 9))"
   ]
  },
  {
   "cell_type": "code",
   "execution_count": 4,
   "metadata": {},
   "outputs": [
    {
     "output_type": "stream",
     "name": "stdout",
     "text": [
      "[1, 2]\n"
     ]
    }
   ],
   "source": [
    "# 方案2 使用Hash表\n",
    "# 时间复杂度：O(N)，其中 N 是数组中的元素数量。对于每一个元素 x，我们可以 O(1) 地寻找 target - x\n",
    "# 空间复杂度：O(N)，其中 N 是数组中的元素数量。主要为哈希表的开销\n",
    "class Solution1_2:\n",
    "    def twoSum(self, nums: List[int], target: int) -> List[int]:\n",
    "        hashTable = dict()\n",
    "        for i, num in enumerate(nums):\n",
    "            temp = target - num\n",
    "            if temp in hashTable:\n",
    "                return [hashTable[temp], i]\n",
    "            hashTable[num] = i\n",
    "        return []\n",
    "\n",
    "print(Solution1_2().twoSum([2,-7,16,15], 9))"
   ]
  },
  {
   "source": [
    "[两数相加](https://leetcode-cn.com/problems/add-two-numbers/)"
   ],
   "cell_type": "markdown",
   "metadata": {}
  },
  {
   "cell_type": "code",
   "execution_count": 3,
   "metadata": {},
   "outputs": [],
   "source": [
    "# Definition for singly-linked list.\n",
    "class ListNode:\n",
    "    def __init__(self, val=0, next=None):\n",
    "        self.val = val\n",
    "        self.next = next\n",
    "\n",
    "# 遍历较长的链表并做加法运算，注意进位\n",
    "# 时间复杂度：O(max(m,n))，其中 m,n 为两个链表的长度。我们要遍历两个链表的全部位置，而处理每个位置只需要 O(1) 的时间。\n",
    "# 空间复杂度：O(max(m,n))，答案链表的长度最多为较长链表的长度 +1。\n",
    "\n",
    "class Solution2:\n",
    "    def addTwoNumbers(self, l1: ListNode, l2: ListNode) -> ListNode:\n",
    "        add = 0\n",
    "        head: ListNode = None\n",
    "        temp: ListNode = None\n",
    "        while(True):\n",
    "            sum = 0\n",
    "            if(l1 is not None):\n",
    "                sum += l1.val\n",
    "                l1 = l1.next\n",
    "            if(l2 is not None):\n",
    "                sum += l2.val\n",
    "                l2 = l2.next\n",
    "            sum += add\n",
    "            if(head is None):\n",
    "                head = ListNode(sum % 10)\n",
    "                temp = head\n",
    "            else:\n",
    "                temp.next = ListNode(sum % 10)\n",
    "                temp = temp.next\n",
    "            if(sum >= 10): \n",
    "                add = 1\n",
    "            else:\n",
    "                add = 0\n",
    "            if(l1 is None and l2 is None):\n",
    "                if(add == 1):\n",
    "                    temp.next = ListNode(1)\n",
    "                break;\n",
    "        return head"
   ]
  },
  {
   "source": [
    "[无重复字符的最长子串](https://leetcode-cn.com/problems/longest-substring-without-repeating-characters/)\n",
    "\n",
    "解题思路：滑动窗口"
   ],
   "cell_type": "markdown",
   "metadata": {}
  },
  {
   "cell_type": "code",
   "execution_count": 6,
   "metadata": {},
   "outputs": [
    {
     "output_type": "stream",
     "name": "stdout",
     "text": [
      "4\n6\n"
     ]
    }
   ],
   "source": [
    "class Solution3_1:\n",
    "    def lengthOfLongestSubstring(self, s: str) -> int:\n",
    "        j = 0\n",
    "        result = 0\n",
    "        temp = 1\n",
    "        hashTable = dict() # 哈希表记录上次元素出现的位置\n",
    "        if(len(s) > 0):\n",
    "            result = 1\n",
    "            hashTable[s[j]] = j\n",
    "        for i in range(1, len(s)):\n",
    "            temp += 1\n",
    "            if s[i] in s[j: i]:\n",
    "                j = hashTable[s[i]] + 1\n",
    "                temp = i - j + 1\n",
    "            hashTable[s[i]] = i\n",
    "            if(temp > result):\n",
    "                result = temp\n",
    "            \n",
    "        return result\n",
    "\n",
    "s = Solution3_1()\n",
    "print(s.lengthOfLongestSubstring('dvdfa'))\n",
    "print(s.lengthOfLongestSubstring('bbtablud'))"
   ]
  },
  {
   "cell_type": "code",
   "execution_count": 7,
   "metadata": {},
   "outputs": [
    {
     "output_type": "stream",
     "name": "stdout",
     "text": [
      "4\n6\n"
     ]
    }
   ],
   "source": [
    "class Solution3_2:\n",
    "    def lengthOfLongestSubstring(self, s: str) -> int:\n",
    "        # 哈希集合，记录每个字符是否出现过\n",
    "        occ = set()\n",
    "        n = len(s)\n",
    "        # 右指针，初始值为 -1，相当于我们在字符串的左边界的左侧，还没有开始移动\n",
    "        rk, ans = -1, 0\n",
    "        for i in range(n):\n",
    "            if i != 0:\n",
    "                # 左指针向右移动一格，移除一个字符\n",
    "                occ.remove(s[i - 1])\n",
    "            while rk + 1 < n and s[rk + 1] not in occ:\n",
    "                # 不断地移动右指针\n",
    "                occ.add(s[rk + 1])\n",
    "                rk += 1\n",
    "            # 第 i 到 rk 个字符是一个极长的无重复字符子串\n",
    "            ans = max(ans, rk - i + 1)\n",
    "        return ans\n",
    "\n",
    "s = Solution3_2()\n",
    "print(s.lengthOfLongestSubstring('dvdfa'))\n",
    "print(s.lengthOfLongestSubstring('bbtablud'))"
   ]
  },
  {
   "cell_type": "code",
   "execution_count": null,
   "metadata": {},
   "outputs": [],
   "source": []
  }
 ]
}